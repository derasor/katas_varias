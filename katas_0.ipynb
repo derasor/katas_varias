{
 "cells": [
  {
   "cell_type": "code",
   "execution_count": 10,
   "metadata": {},
   "outputs": [
    {
     "name": "stdout",
     "output_type": "stream",
     "text": [
      "es\n",
      "t\n",
      "dd\n",
      "A\n",
      "of\n"
     ]
    }
   ],
   "source": [
    "'''\n",
    "CODING PRACTICE\n",
    "'''\n",
    "\n",
    "\n",
    "'''\n",
    "TRY 1\n",
    "'''\n",
    "\n",
    "def get_middle(s):\n",
    "    if len(s)%2 == 0: \n",
    "        return s[len(s)/2-1:len(s)/2+1]\n",
    "    if len(s) == 1:\n",
    "        return s\n",
    "    return s[int(len(s)/2)]\n",
    "\n",
    "print get_middle(\"test\")\n",
    "print get_middle(\"testing\")\n",
    "print get_middle(\"middle\")\n",
    "print get_middle(\"A\")\n",
    "print get_middle(\"of\")"
   ]
  },
  {
   "cell_type": "code",
   "execution_count": 11,
   "metadata": {},
   "outputs": [
    {
     "name": "stdout",
     "output_type": "stream",
     "text": [
      "es\n",
      "t\n",
      "dd\n",
      "A\n",
      "of\n"
     ]
    }
   ],
   "source": [
    "'''BEST SOLUTION'''\n",
    "\n",
    "def get_middle(s):\n",
    "    return s[(len(s)-1)/2:len(s)/2+1]\n",
    "\n",
    "print get_middle(\"test\")\n",
    "print get_middle(\"testing\")\n",
    "print get_middle(\"middle\")\n",
    "print get_middle(\"A\")\n",
    "print get_middle(\"of\")"
   ]
  },
  {
   "cell_type": "code",
   "execution_count": 13,
   "metadata": {},
   "outputs": [
    {
     "name": "stdout",
     "output_type": "stream",
     "text": [
      "233168\n"
     ]
    }
   ],
   "source": [
    "'''\n",
    "Find the sum of all the multiples of 3 or 5 below 1000.\n",
    "'''\n",
    "n = 1000\n",
    "\n",
    "m1 = 3\n",
    "\n",
    "m2 = 5\n",
    "\n",
    "m = [m1,m2]\n",
    "\n",
    "def multiples_sum(n,m):    \n",
    "    multiples_dict = {}\n",
    "    multiples_set = set()\n",
    "    result = 0\n",
    "    for i in m:\n",
    "        multiples_dict[i] = range(i, n, i) # range([start], stop[, step])\n",
    "    for multiples_list in multiples_dict.values():\n",
    "        multiples_set.update(multiples_list)\n",
    "    return sum(multiples_set)\n",
    "\n",
    "print multiples_sum(n,m)"
   ]
  },
  {
   "cell_type": "code",
   "execution_count": 5,
   "metadata": {},
   "outputs": [
    {
     "name": "stdout",
     "output_type": "stream",
     "text": [
      "True\n",
      "True\n",
      "False\n",
      "False\n",
      "False\n",
      "True\n"
     ]
    }
   ],
   "source": [
    "'''\n",
    "ISOGRAM\n",
    "'''\n",
    "\n",
    "def is_isogram(string):\n",
    "    #your code here\n",
    "    for letter in string:\n",
    "        if string.lower().count(letter.lower()) > 1:\n",
    "            return False\n",
    "    return True\n",
    "        \n",
    "\n",
    "print is_isogram(\"Dermatoglyphics\") #True\n",
    "print is_isogram(\"isogram\") #True\n",
    "print is_isogram(\"aba\") #False\n",
    "print is_isogram(\"moOse\") #False\n",
    "print is_isogram(\"isIsogram\") #False\n",
    "print is_isogram(\"\") #True"
   ]
  },
  {
   "cell_type": "code",
   "execution_count": 6,
   "metadata": {},
   "outputs": [
    {
     "name": "stdout",
     "output_type": "stream",
     "text": [
      "True\n",
      "True\n",
      "False\n",
      "False\n",
      "False\n",
      "True\n"
     ]
    }
   ],
   "source": [
    "'''BEST SOLUTION'''\n",
    "\n",
    "def is_isogram(string):\n",
    "    return len(string) == len(set(string.lower()))\n",
    "\n",
    "print is_isogram(\"Dermatoglyphics\") #True\n",
    "print is_isogram(\"isogram\") #True\n",
    "print is_isogram(\"aba\") #False\n",
    "print is_isogram(\"moOse\") #False\n",
    "print is_isogram(\"isIsogram\") #False\n",
    "print is_isogram(\"\") #True"
   ]
  },
  {
   "cell_type": "code",
   "execution_count": 36,
   "metadata": {},
   "outputs": [
    {
     "name": "stdout",
     "output_type": "stream",
     "text": [
      "False\n",
      "Year must be between 1900 and 1e+5.\n"
     ]
    }
   ],
   "source": [
    "'''\n",
    "Leap Year\n",
    "'''\n",
    "\n",
    "def is_leap(year):\n",
    "    leap = False\n",
    "    \n",
    "    # Write your logic here\n",
    "    if 1900 <= year < 1e5:\n",
    "        if year % 400 == 0:\n",
    "            leap = True\n",
    "        if year % 4 == 0 and year % 100 != 0:\n",
    "            leap = True\n",
    "        \n",
    "    else:\n",
    "        return \"Year must be between 1900 and 1e+5.\"      \n",
    "    return leap\n",
    "\n",
    "year = 1990\n",
    "print is_leap(year)\n",
    "\n",
    "year = 18\n",
    "print is_leap(year)"
   ]
  },
  {
   "cell_type": "code",
   "execution_count": 21,
   "metadata": {},
   "outputs": [
    {
     "data": {
      "text/plain": [
       "'ok'"
      ]
     },
     "execution_count": 21,
     "metadata": {},
     "output_type": "execute_result"
    }
   ],
   "source": [
    "\"ok\""
   ]
  },
  {
   "cell_type": "code",
   "execution_count": 11,
   "metadata": {},
   "outputs": [
    {
     "name": "stdout",
     "output_type": "stream",
     "text": [
      "14/0\n"
     ]
    }
   ],
   "source": [
    "'''\n",
    "In a factory a printer prints labels for boxes. For one kind of boxes the printer has to use colors which, \n",
    "for the sake of simplicity, are named with letters from a to m.\n",
    "\n",
    "The colors used by the printer are recorded in a control string. \n",
    "For example a \"good\" control string would be aaabbbbhaijjjm meaning that the printer used three times color a, \n",
    "four times color b, one time color h then one time color a...\n",
    "\n",
    "Sometimes there are problems: lack of colors, technical malfunction and a \"bad\" control string is produced \n",
    "e.g. aaaxbbbbyyhwawiwjjjwwm.\n",
    "\n",
    "You have to write a function printer_error which given a string will output the error rate of the printer as a string \n",
    "representing a rational whose numerator is the number of errors and the denominator the length of the control string. \n",
    "Don't reduce this fraction to a simpler expression.\n",
    "\n",
    "The string has a length greater or equal to one and contains only letters from ato z.\n",
    "'''\n",
    "\n",
    "\n",
    "def printer_error(s):\n",
    "    # your code\n",
    "    denominator = str(len(s))\n",
    "    error = 0\n",
    "    chars = list(s)\n",
    "    for i in chars:\n",
    "        if i > \"m\":\n",
    "            error += 1\n",
    "    numerator = str(error)\n",
    "    return ''.join((numerator,\"/\",denominator))\n",
    "\n",
    "\n",
    "s=\"aaabbbbhaijjjm\"\n",
    "print printer_error(s)"
   ]
  },
  {
   "cell_type": "code",
   "execution_count": 12,
   "metadata": {},
   "outputs": [
    {
     "name": "stdout",
     "output_type": "stream",
     "text": [
      "56/3\n"
     ]
    }
   ],
   "source": [
    "s=\"aaaaaaaaaaaaaaaabbbbbbbbbbbbbbbbbbmmmmmmmmmmmmmmmmmmmxyz\"\n",
    "print printer_error(s)"
   ]
  },
  {
   "cell_type": "code",
   "execution_count": 3,
   "metadata": {},
   "outputs": [
    {
     "name": "stdout",
     "output_type": "stream",
     "text": [
      "6\n",
      "123456"
     ]
    }
   ],
   "source": [
    "'''\n",
    "future\n",
    "print_function\n",
    "'''\n",
    "from __future__ import print_function\n",
    "if __name__ == '__main__':\n",
    "    n = int(raw_input())\n",
    "    \n",
    "for i in range(1,n+1):\n",
    "    print(i, end='')"
   ]
  },
  {
   "cell_type": "code",
   "execution_count": 2,
   "metadata": {},
   "outputs": [
    {
     "name": "stdout",
     "output_type": "stream",
     "text": [
      "2\n",
      "insert 0 5\n",
      "print\n",
      "[5]\n"
     ]
    }
   ],
   "source": [
    "'''\n",
    "Consider a list (list = []). You can perform the following commands:\n",
    "\n",
    "insert i e: Insert integer  at position .\n",
    "print: Print the list.\n",
    "remove e: Delete the first occurrence of integer .\n",
    "append e: Insert integer  at the end of the list.\n",
    "sort: Sort the list.\n",
    "pop: Pop the last element from the list.\n",
    "reverse: Reverse the list.\n",
    "Initialize your list and read in the value of  followed by  lines of commands where each command will be of the types listed above. Iterate through each command in order and perform the corresponding operation on your list.\n",
    "\n",
    "Input Format\n",
    "\n",
    "The first line contains an integer, , denoting the number of commands. \n",
    "Each line  of the  subsequent lines contains one of the commands described above.\n",
    "\n",
    "Constraints\n",
    "\n",
    "The elements added to the list must be integers.\n",
    "Output Format\n",
    "\n",
    "For each command of type print, print the list on a new line.\n",
    "\n",
    "Sample Input\n",
    "\n",
    "12\n",
    "insert 0 5\n",
    "insert 1 10\n",
    "insert 0 6\n",
    "print \n",
    "remove 6\n",
    "append 9\n",
    "append 1\n",
    "sort \n",
    "print\n",
    "pop\n",
    "reverse\n",
    "print\n",
    "\n",
    "Sample Output\n",
    "\n",
    "[6, 5, 10]\n",
    "[1, 5, 9, 10]\n",
    "[9, 5, 1]\n",
    "'''\n",
    "\n",
    "\n",
    "if __name__ == '__main__':\n",
    "    N = int(raw_input())\n",
    "\n",
    "result = []\n",
    "for _ in range(N):\n",
    "    line = raw_input().split()\n",
    "    if line[0] == 'print':\n",
    "        print result\n",
    "    else:\n",
    "        command = line[0]\n",
    "        arguments = \",\".join(line[1:])\n",
    "        #print arguments\n",
    "        eval(\"result.\" + command + \"(\" + arguments + \")\")\n",
    "        "
   ]
  },
  {
   "cell_type": "code",
   "execution_count": 5,
   "metadata": {},
   "outputs": [
    {
     "name": "stdout",
     "output_type": "stream",
     "text": [
      "2\n",
      "1 2\n",
      "1299869600\n"
     ]
    }
   ],
   "source": [
    "n = int(raw_input())\n",
    "integer_list = map(int, raw_input().split())\n",
    "\n",
    "print(hash(tuple(integer_list)))"
   ]
  },
  {
   "cell_type": "code",
   "execution_count": 30,
   "metadata": {},
   "outputs": [
    {
     "name": "stdout",
     "output_type": "stream",
     "text": [
      "2197\n",
      "8\n",
      "27\n"
     ]
    }
   ],
   "source": [
    "def row_sum_odd_numbers(n):\n",
    "    #your code here\n",
    "    # Triangular number sequence\n",
    "    final_index = n*(n+1)/2\n",
    "    initial_index = final_index - n+1\n",
    "    # n-th odd number\n",
    "    initial_number = 2*initial_index - 1\n",
    "    final_number = 2*final_index -1\n",
    "    result = 0\n",
    "    relevant_list = range(initial_number, final_number+2, 2)\n",
    "    result = sum(relevant_list)\n",
    "    return result\n",
    "\n",
    "\n",
    "print row_sum_odd_numbers(13)\n",
    "print row_sum_odd_numbers(2)\n",
    "print row_sum_odd_numbers(3)\n",
    "\n",
    "assert(row_sum_odd_numbers(1) == 1)\n",
    "assert(row_sum_odd_numbers(2) == 8)\n",
    "assert(row_sum_odd_numbers(13) == 2197)\n",
    "assert(row_sum_odd_numbers(19) == 6859)\n",
    "assert(row_sum_odd_numbers(41) == 68921)"
   ]
  },
  {
   "cell_type": "code",
   "execution_count": 31,
   "metadata": {},
   "outputs": [
    {
     "name": "stdout",
     "output_type": "stream",
     "text": [
      "2197\n",
      "8\n",
      "27\n"
     ]
    }
   ],
   "source": [
    "# BEST PRACTICE\n",
    "\n",
    "def row_sum_odd_numbers(n):\n",
    "    return n ** 3\n",
    "\n",
    "print row_sum_odd_numbers(13)\n",
    "print row_sum_odd_numbers(2)\n",
    "print row_sum_odd_numbers(3)"
   ]
  },
  {
   "cell_type": "code",
   "execution_count": 1,
   "metadata": {},
   "outputs": [
    {
     "name": "stdout",
     "output_type": "stream",
     "text": [
      "1\n",
      "2\n"
     ]
    }
   ],
   "source": [
    "'''\n",
    "Count number of occurrences of a given substring in a string\n",
    "'''\n",
    "\n",
    "string = \"ABCDCDC\"\n",
    "sub_string = \"CDC\"\n",
    "\n",
    "print string.count(sub_string)\n",
    "\n",
    "def count_substring(string, sub_string):\n",
    "    count = 0\n",
    "    for index in range(len(string)):\n",
    "        if string[index:index+len(sub_string)] == sub_string:\n",
    "            count += 1\n",
    "    return count\n",
    "\n",
    "print count_substring(string, sub_string)"
   ]
  },
  {
   "cell_type": "code",
   "execution_count": null,
   "metadata": {
    "collapsed": true
   },
   "outputs": [],
   "source": []
  }
 ],
 "metadata": {
  "kernelspec": {
   "display_name": "Python 2",
   "language": "python",
   "name": "python2"
  },
  "language_info": {
   "codemirror_mode": {
    "name": "ipython",
    "version": 2
   },
   "file_extension": ".py",
   "mimetype": "text/x-python",
   "name": "python",
   "nbconvert_exporter": "python",
   "pygments_lexer": "ipython2",
   "version": "2.7.13"
  }
 },
 "nbformat": 4,
 "nbformat_minor": 1
}
