{
 "cells": [
  {
   "cell_type": "code",
   "execution_count": 1,
   "metadata": {},
   "outputs": [
    {
     "name": "stdout",
     "output_type": "stream",
     "text": [
      "1\n",
      "1\n",
      "2\n",
      "[[0, 0], [0, 1], [1, 0]]\n"
     ]
    }
   ],
   "source": [
    "'''\n",
    "You are given two integers x and y . You need to find out the ordered pairs ( i , j ) , \n",
    "such that ( i + j ) is not equal to n and print them in lexicographic order.( 0 <= i <= x ) and ( 0 <= j <= y)\n",
    "'''\n",
    "x = int ( raw_input())\n",
    "y = int ( raw_input())\n",
    "n = int ( raw_input())\n",
    "print [ [ i, j] for i in range( x + 1) for j in range( y + 1) if ( ( i + j ) != n )]\n"
   ]
  },
  {
   "cell_type": "code",
   "execution_count": 2,
   "metadata": {},
   "outputs": [
    {
     "name": "stdout",
     "output_type": "stream",
     "text": [
      "1\n",
      "1\n",
      "1\n",
      "2\n",
      "[[0, 0, 0], [0, 0, 1], [0, 1, 0], [1, 0, 0], [1, 1, 1]]\n"
     ]
    }
   ],
   "source": [
    "x = int(raw_input())\n",
    "y = int(raw_input())\n",
    "z = int(raw_input())\n",
    "n = int(raw_input())\n",
    "print [ [i, j, k] for i in range(x+1) for j in range(y+1) for k in range(z+1) if ((i+j+k) != n)]"
   ]
  },
  {
   "cell_type": "code",
   "execution_count": 3,
   "metadata": {},
   "outputs": [
    {
     "name": "stdout",
     "output_type": "stream",
     "text": [
      "qA2\n",
      "True\n",
      "True\n",
      "True\n",
      "True\n",
      "True\n"
     ]
    }
   ],
   "source": [
    "'''\n",
    "Your task is to find out if the string  contains: \n",
    "alphanumeric characters, alphabetical characters, digits, lowercase and uppercase characters.\n",
    "'''\n",
    "\n",
    "s = raw_input()\n",
    "print any(char.isalnum() for char in s)\n",
    "print any(char.isalpha() for char in s)\n",
    "print any(char.isdigit() for char in s)\n",
    "print any(char.islower() for char in s)\n",
    "print any(char.isupper() for char in s)"
   ]
  },
  {
   "cell_type": "code",
   "execution_count": 4,
   "metadata": {},
   "outputs": [
    {
     "name": "stdout",
     "output_type": "stream",
     "text": [
      "acefghilmnoprstuy\n"
     ]
    }
   ],
   "source": [
    "'''\n",
    "Take 2 strings s1 and s2 including only letters from ato z. \n",
    "Return a new sorted string, the longest possible, containing distinct letters\n",
    "'''\n",
    "\n",
    "def longest(s1, s2):\n",
    "    # your code\n",
    "    # Unify\n",
    "    s = s1.lower()+s2.lower()\n",
    "    # Sort Set and make it a string again with 'join'\n",
    "    return ''.join(sorted(set(s)))\n",
    "\n",
    "\n",
    "s1 = \"inmanylanguages\"\n",
    "s2 = \"theresapairoffunctions\"\n",
    "print longest(s1, s2)"
   ]
  },
  {
   "cell_type": "code",
   "execution_count": 5,
   "metadata": {},
   "outputs": [
    {
     "name": "stdout",
     "output_type": "stream",
     "text": [
      "acefghilmnoprstuy\n"
     ]
    }
   ],
   "source": [
    "'''\n",
    "Alternative\n",
    "'''\n",
    "def longest(s1, s2):\n",
    "    return ''.join(sorted(set(s1) | set(s2)))\n",
    "\n",
    "s1 = \"inmanylanguages\"\n",
    "s2 = \"theresapairoffunctions\"\n",
    "print longest(s1, s2)"
   ]
  },
  {
   "cell_type": "code",
   "execution_count": 22,
   "metadata": {},
   "outputs": [
    {
     "name": "stdout",
     "output_type": "stream",
     "text": [
      "4\n",
      "    H    \n",
      "   HHH   \n",
      "  HHHHH  \n",
      " HHHHHHH \n",
      "HHHHHHHHH\n",
      "  HHHHH               HHHHH             \n",
      "  HHHHH               HHHHH             \n",
      "  HHHHH               HHHHH             \n",
      "  HHHHH               HHHHH             \n",
      "  HHHHH               HHHHH             \n",
      "  HHHHH               HHHHH             \n",
      "  HHHHHHHHHHHHHHHHHHHHHHHHH   \n",
      "  HHHHHHHHHHHHHHHHHHHHHHHHH   \n",
      "  HHHHHHHHHHHHHHHHHHHHHHHHH   \n",
      "  HHHHH               HHHHH             \n",
      "  HHHHH               HHHHH             \n",
      "  HHHHH               HHHHH             \n",
      "  HHHHH               HHHHH             \n",
      "  HHHHH               HHHHH             \n",
      "  HHHHH               HHHHH             \n",
      "                    HHHHHHHHH \n",
      "                     HHHHHHH  \n",
      "                      HHHHH   \n",
      "                       HHH    \n",
      "                        H     \n"
     ]
    }
   ],
   "source": [
    "'''\n",
    "You are given a partial code that is used for generating the HackerRank Logo of variable thickness. \n",
    "Thickness must be odd.\n",
    "Using rjust, ljust or center.\n",
    "'''\n",
    "\n",
    "thickness = int(raw_input()) #This must be an odd number\n",
    "c = 'H'\n",
    "\n",
    "if not(thickness & 1):\n",
    "    thickness = thickness + 1\n",
    "\n",
    "#Top Cone\n",
    "for i in range(thickness):\n",
    "    print (c*i).rjust(thickness-1)+c+(c*i).ljust(thickness-1)\n",
    "\n",
    "#Top Pillars\n",
    "for i in range(thickness+1):\n",
    "    print (c*thickness).center(thickness*2)+(c*thickness).center(thickness*6)\n",
    "\n",
    "#Middle Belt\n",
    "for i in range((thickness+1)/2):\n",
    "    print (c*thickness*5).center(thickness*6)    \n",
    "\n",
    "#Bottom Pillars\n",
    "for i in range(thickness+1):\n",
    "    print (c*thickness).center(thickness*2)+(c*thickness).center(thickness*6)    \n",
    "\n",
    "#Bottom Cone\n",
    "for i in range(thickness):\n",
    "    print ((c*(thickness-i-1)).rjust(thickness)+c+(c*(thickness-i-1)).ljust(thickness)).rjust(thickness*6)"
   ]
  },
  {
   "cell_type": "code",
   "execution_count": 2,
   "metadata": {},
   "outputs": [
    {
     "name": "stdout",
     "output_type": "stream",
     "text": [
      "[2]\n",
      "[2, 2]\n",
      "[1]\n",
      "[1, 2, 2]\n",
      "[]\n"
     ]
    }
   ],
   "source": [
    "'''\n",
    "Your goal in this kata is to implement an difference function, which subtracts one list from another.\n",
    "\n",
    "It should remove all values from list a, which are present in list b.\n",
    "'''\n",
    "\n",
    "def array_diff(a, b):\n",
    "    #your code here\n",
    "    for e in b:\n",
    "        for i in range(a.count(e)):\n",
    "            a.remove(e)\n",
    "    return a\n",
    "    \n",
    "\n",
    "print array_diff([1,2], [1]) # [2]\n",
    "print array_diff([1,2,2], [1]) # [2,2]\n",
    "print array_diff([1,2,2], [2]) # [1]\n",
    "print array_diff([1,2,2], []) # [1,2,2]\n",
    "print array_diff([], [1,2]) # []\n"
   ]
  },
  {
   "cell_type": "code",
   "execution_count": 4,
   "metadata": {},
   "outputs": [
    {
     "name": "stdout",
     "output_type": "stream",
     "text": [
      "[2]\n",
      "[2, 2]\n",
      "[1]\n",
      "[1, 2, 2]\n",
      "[]\n"
     ]
    }
   ],
   "source": [
    "def array_diff(a, b):\n",
    "    return [e for e in a if e not in b]\n",
    "\n",
    "print array_diff([1,2], [1]) # [2]\n",
    "print array_diff([1,2,2], [1]) # [2,2]\n",
    "print array_diff([1,2,2], [2]) # [1]\n",
    "print array_diff([1,2,2], []) # [1,2,2]\n",
    "print array_diff([], [1,2]) # []"
   ]
  },
  {
   "cell_type": "code",
   "execution_count": 21,
   "metadata": {},
   "outputs": [
    {
     "name": "stdout",
     "output_type": "stream",
     "text": [
      "3\n",
      "1\n",
      "-1\n",
      "3\n",
      "0\n",
      "6\n",
      "-1\n",
      "0\n",
      "3\n",
      "-1\n"
     ]
    }
   ],
   "source": [
    "'''\n",
    "You are going to be given an array of integers. \n",
    "Your job is to take that array and find an index N where the sum of the integers to the left of N \n",
    "is equal to the sum of the integers to the right of N.\n",
    "If there is no index that would make this happen, return -1\n",
    "'''\n",
    "\n",
    "def find_even_index(arr):\n",
    "    result = -1\n",
    "    for i in range(len(arr)):\n",
    "        left = sum(arr[:i])\n",
    "        rigth = sum(arr[i+1:])\n",
    "        if left == rigth:\n",
    "            result = i\n",
    "            return result\n",
    "    return result\n",
    "    \n",
    "\n",
    "print find_even_index([1,2,3,4,3,2,1]) # 3   \n",
    "print find_even_index([1,100,50,-51,1,1]) # 1\n",
    "print find_even_index([1,2,3,4,5,6]) # -1\n",
    "print find_even_index([20,10,30,10,10,15,35]) # 3\n",
    "print find_even_index([20,10,-80,10,10,15,35]) # 0\n",
    "print find_even_index([10,-80,10,10,15,35,20]) # 6\n",
    "print find_even_index(range(1,100)) # -1\n",
    "print find_even_index([0,0,0,0,0]) # 0,\"Should pick the first index if more cases are valid\"\n",
    "print find_even_index([-1,-2,-3,-4,-3,-2,-1]) # 3\n",
    "print find_even_index(range(-100,-1)) # -1\n"
   ]
  },
  {
   "cell_type": "code",
   "execution_count": 22,
   "metadata": {
    "collapsed": true
   },
   "outputs": [],
   "source": [
    "'''OPTIMAL'''\n",
    "def find_even_index(arr):\n",
    "    for i in range(len(arr)):\n",
    "        if sum(arr[:i]) == sum(arr[i+1:]):\n",
    "            return i\n",
    "    return -1"
   ]
  },
  {
   "cell_type": "code",
   "execution_count": 6,
   "metadata": {},
   "outputs": [
    {
     "name": "stdout",
     "output_type": "stream",
     "text": [
      "0.5\n",
      "0.999999994397\n",
      "8.31528027664e-07\n",
      "0.5\n"
     ]
    }
   ],
   "source": [
    "'''\n",
    "SIGMOID FUNCTION\n",
    "'''\n",
    "import numpy as np\n",
    "\n",
    "def sigmoid_f(x):\n",
    "    if x < 0:\n",
    "        z = np.exp(x)\n",
    "        return z / (1+z)\n",
    "    elif x >= 0:\n",
    "        z = np.exp(-x)\n",
    "        return 1 / (1+z)\n",
    "\n",
    "def score(x_1, x_2):\n",
    "    return 4*x_1 + 5*x_2 - 9\n",
    "\n",
    "print(sigmoid_f(score(1,1)))\n",
    "print(sigmoid_f(score(2,4)))\n",
    "print(sigmoid_f(score(5,-5)))\n",
    "print(sigmoid_f(score(-4,5)))"
   ]
  },
  {
   "cell_type": "code",
   "execution_count": 8,
   "metadata": {},
   "outputs": [
    {
     "name": "stdout",
     "output_type": "stream",
     "text": [
      "[0.6652409557748219, 0.24472847105479764, 0.090030573170380462]\n"
     ]
    }
   ],
   "source": [
    "'''\n",
    "SOFTMAX FUNCTION\n",
    "'''\n",
    "def softmax(L):\n",
    "    eL = []\n",
    "    softmaxL = []\n",
    "    for e in L:\n",
    "        eL.append(np.exp(e))\n",
    "    sumeL = sum(eL)\n",
    "    for v in eL:\n",
    "        softmaxL.append(v/float(sumeL))\n",
    "    return softmaxL\n",
    "\n",
    "L = [2, 1, 0]\n",
    "print(softmax(L))"
   ]
  },
  {
   "cell_type": "code",
   "execution_count": 10,
   "metadata": {},
   "outputs": [
    {
     "name": "stdout",
     "output_type": "stream",
     "text": [
      "[ 0.09003057  0.24472847  0.66524096]\n"
     ]
    }
   ],
   "source": [
    "'''optimal'''\n",
    "def softmax_o(L):\n",
    "    expL = np.exp(L)\n",
    "    return np.divide (expL, expL.sum())\n",
    "\n",
    "L = [5, 6, 7]\n",
    "print(softmax_o(L))\n",
    "# [0.090030573170380462, 0.24472847105479764, 0.6652409557748219]"
   ]
  },
  {
   "cell_type": "code",
   "execution_count": 21,
   "metadata": {},
   "outputs": [
    {
     "name": "stdout",
     "output_type": "stream",
     "text": [
      "0.222222\n",
      "0.333333\n",
      "0.444444\n"
     ]
    }
   ],
   "source": [
    "'''\n",
    "Given an array of integers, calculate the fractions of its elements that are positive, negative, and are zeros. \n",
    "Print the decimal value of each fraction on a new line.\n",
    "'''\n",
    "\n",
    "#import math\n",
    "#import os\n",
    "#import random\n",
    "#import re\n",
    "#import sys\n",
    "\n",
    "# Complete the plusMinus function below.\n",
    "def plusMinus(arr):\n",
    "    t = float(len(arr))\n",
    "    rp = sum(i > 0 for i in arr)/t\n",
    "    rn = sum(n < 0 for n in arr)/t\n",
    "    rz = sum(z == 0 for z in arr)/t\n",
    "    print(\"{0:.6f}\".format(rp))\n",
    "    print(\"{0:.6f}\".format(rn))\n",
    "    print(\"{0:.6f}\".format(rz))\n",
    "\n",
    "\n",
    "plusMinus([4, 3, 0, -12, -3, 0, 0, 0, -1])"
   ]
  },
  {
   "cell_type": "code",
   "execution_count": 1,
   "metadata": {},
   "outputs": [
    {
     "name": "stdout",
     "output_type": "stream",
     "text": [
      "000000\n",
      "010203\n",
      "FFFFFF\n",
      "FEFDFC\n",
      "00FF7D\n"
     ]
    }
   ],
   "source": [
    "'''\n",
    "The rgb() method is incomplete. Complete the method \n",
    "so that passing in RGB decimal values will result in a hexadecimal representation being returned. \n",
    "The valid decimal values for RGB are 0 - 255. \n",
    "Any (r,g,b) argument values that fall out of that range should be rounded to the closest valid value.\n",
    "'''\n",
    "\n",
    "def rgb(r, g, b):\n",
    "    fr = max(0, min(r, 255))\n",
    "    fg = max(0, min(g, 255))\n",
    "    fb = max(0, min(b, 255))\n",
    "    return \"{0:02X}{1:02X}{2:02X}\".format(fr, fg, fb)\n",
    "\n",
    "print(rgb(0,0,0))\n",
    "print(rgb(1,2,3))\n",
    "print(rgb(255,255,255))\n",
    "print(rgb(254,253,252))\n",
    "print(rgb(-20,275,125))\n",
    "\n",
    "\n",
    "'''\n",
    "BEST PRACTICE:\n",
    "def rgb(r, g, b):\n",
    "    round = lambda x: min(255, max(x, 0))\n",
    "    return (\"{:02X}\" * 3).format(round(r), round(g), round(b))\n",
    "'''"
   ]
  },
  {
   "cell_type": "code",
   "execution_count": null,
   "metadata": {
    "collapsed": true
   },
   "outputs": [],
   "source": []
  }
 ],
 "metadata": {
  "kernelspec": {
   "display_name": "Python [default]",
   "language": "python",
   "name": "python2"
  },
  "language_info": {
   "codemirror_mode": {
    "name": "ipython",
    "version": 2
   },
   "file_extension": ".py",
   "mimetype": "text/x-python",
   "name": "python",
   "nbconvert_exporter": "python",
   "pygments_lexer": "ipython2",
   "version": "2.7.13"
  }
 },
 "nbformat": 4,
 "nbformat_minor": 2
}
