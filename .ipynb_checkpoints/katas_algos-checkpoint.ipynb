{
 "cells": [
  {
   "cell_type": "code",
   "execution_count": 1,
   "metadata": {},
   "outputs": [
    {
     "name": "stdout",
     "output_type": "stream",
     "text": [
      "3\n",
      "1 2 3\n",
      "6\n"
     ]
    }
   ],
   "source": [
    "import sys\n",
    "\n",
    "def simpleArraySum(n, ar):    \n",
    "    # Complete this function\n",
    "    return sum(ar)\n",
    "\n",
    "n = int(raw_input().strip())\n",
    "ar = map(int, raw_input().strip().split(' '))\n",
    "result = simpleArraySum(n, ar)\n",
    "print(result)"
   ]
  },
  {
   "cell_type": "code",
   "execution_count": 3,
   "metadata": {},
   "outputs": [
    {
     "name": "stdout",
     "output_type": "stream",
     "text": [
      "5 6 7\n",
      "3 6 10\n",
      "1 1\n"
     ]
    }
   ],
   "source": [
    "def solve(a0, a1, a2, b0, b1, b2):\n",
    "    # Complete this function\n",
    "    a=0\n",
    "    b=0\n",
    "    ratings = [a0, a1, a2, b0, b1, b2]\n",
    "    for i in range(0, 3):\n",
    "        if ratings[i]>ratings[i+3]:\n",
    "            a += 1\n",
    "        elif ratings[i]<ratings[i+3]:\n",
    "            b += 1\n",
    "    return [a, b]\n",
    "\n",
    "a0, a1, a2 = raw_input().strip().split(' ')\n",
    "a0, a1, a2 = [int(a0), int(a1), int(a2)]\n",
    "b0, b1, b2 = raw_input().strip().split(' ')\n",
    "b0, b1, b2 = [int(b0), int(b1), int(b2)]\n",
    "result = solve(a0, a1, a2, b0, b1, b2)\n",
    "print \" \".join(map(str, result))"
   ]
  },
  {
   "cell_type": "code",
   "execution_count": 1,
   "metadata": {},
   "outputs": [
    {
     "name": "stdout",
     "output_type": "stream",
     "text": [
      "3\n",
      "12354 5643 765652\n",
      "783649\n"
     ]
    }
   ],
   "source": [
    "import sys\n",
    "\n",
    "def aVeryBigSum(n, ar):\n",
    "    result = 0\n",
    "    for e in ar:\n",
    "        result += e\n",
    "    return result\n",
    "\n",
    "n = int(raw_input().strip())\n",
    "ar = map(long, raw_input().strip().split(' '))\n",
    "result = aVeryBigSum(n, ar)\n",
    "print(result)"
   ]
  },
  {
   "cell_type": "code",
   "execution_count": 2,
   "metadata": {},
   "outputs": [
    {
     "name": "stdout",
     "output_type": "stream",
     "text": [
      "3\n",
      "11 2 4\n",
      "4 5 6\n",
      "10 8 -12\n",
      "15\n"
     ]
    }
   ],
   "source": [
    "'''\n",
    "Given a square matrix of size N x N, calculate the absolute difference between the sums of its diagonals.\n",
    "'''\n",
    "\n",
    "import sys\n",
    "\n",
    "def abs_diff_of_diagonal_sums(n, a):\n",
    "    primary_diag = 0\n",
    "    second_diag = 0\n",
    "    count = 1\n",
    "    for row in a:\n",
    "        primary_diag += row[count - 1]\n",
    "        second_diag += row[len(row) - count]\n",
    "        count += 1\n",
    "    return abs(primary_diag - second_diag)\n",
    "            \n",
    "\n",
    "n = int(raw_input().strip())\n",
    "a = []\n",
    "for a_i in xrange(n):\n",
    "    a_temp = map(int,raw_input().strip().split(' '))\n",
    "    a.append(a_temp)\n",
    "\n",
    "print(abs_diff_of_diagonal_sums(n, a))"
   ]
  },
  {
   "cell_type": "code",
   "execution_count": 2,
   "metadata": {},
   "outputs": [
    {
     "name": "stdout",
     "output_type": "stream",
     "text": [
      "True\n"
     ]
    }
   ],
   "source": [
    "'''\n",
    "You live in the city of Cartesia where all roads are laid out in a perfect grid. \n",
    "You arrived ten minutes too early to an appointment,\n",
    "so you decided to take the opportunity to go for a short walk. \n",
    "The city provides its citizens with a Walk Generating App on their phones -- everytime you press the button\n",
    "it sends you an array of one-letter strings representing directions to walk (eg. ['n', 's', 'w', 'e']). \n",
    "You always walk only a single block in a direction and you know it takes you one minute to traverse one city block,\n",
    "so create a function that will return true if the walk the app gives you will take you exactly ten minutes\n",
    "(you don't want to be early or late!) and will, \n",
    "of course, return you to your starting point. \n",
    "Return false otherwise.\n",
    "\n",
    "NOTE: Note: you will always receive\n",
    "a valid array containing a random assortment of direction letters ('n', 's', 'e', or 'w' only). \n",
    "It will never give you an empty array (that's not a walk, that's standing still!).\n",
    "'''\n",
    "\n",
    "def isValidWalk(walk):\n",
    "    #determine if walk is valid\n",
    "    if len(walk) == 10:\n",
    "        if walk.count('n') == walk.count('s') and walk.count('e') == walk.count('w'):\n",
    "            return True\n",
    "    return False\n",
    "\n",
    "\n",
    "\n",
    "test1 = ['n', 's', 'w', 'e', 'e', 'w', 'w', 'n', 'e', 's']\n",
    "print(isValidWalk(test1))"
   ]
  },
  {
   "cell_type": "code",
   "execution_count": 17,
   "metadata": {},
   "outputs": [
    {
     "name": "stdout",
     "output_type": "stream",
     "text": [
      "\n",
      "theStealthWarrior\n",
      "TheStealthWarrior\n",
      "ABC\n",
      "ACatWasCute\n",
      "ThePippiIsOmoshiroi\n"
     ]
    }
   ],
   "source": [
    "'''\n",
    "Complete the method/function so that it converts dash/underscore delimited words into camel casing. \n",
    "The first word within the output should be capitalized only if the original word was capitalized.\n",
    "'''\n",
    "\n",
    "\n",
    "\n",
    "def to_camel_case(text):\n",
    "    dash_removal_count = 0\n",
    "    underscore_removal_count = 0\n",
    "    for i, c in enumerate(text):\n",
    "        if c == \"-\":\n",
    "            text = text[:i-dash_removal_count] + text[i+1-dash_removal_count].upper() + text[i+2-dash_removal_count:]\n",
    "            dash_removal_count += 1\n",
    "    for i, c in enumerate(text):\n",
    "        if c == \"_\":\n",
    "            text = text[:i-underscore_removal_count] + text[i+1-underscore_removal_count].upper() + text[i+2-underscore_removal_count:]\n",
    "            underscore_removal_count += 1\n",
    "    return text\n",
    "        \n",
    "        \n",
    "print(to_camel_case('')) \n",
    "#''\n",
    "print(to_camel_case(\"the_stealth_warrior\"))\n",
    "#\"theStealthWarrior\"\n",
    "print(to_camel_case(\"The-Stealth-Warrior\"))\n",
    "#\"TheStealthWarrior\"\n",
    "print(to_camel_case(\"A-B-C\"))\n",
    "#\"ABC\"\n",
    "\n",
    "print(to_camel_case(\"A-cat-was_cute\"))\n",
    "print(to_camel_case(\"The-Pippi_Is_Omoshiroi\"))\n",
    "\n",
    "\n",
    "'''\n",
    "def to_camel_case(text):\n",
    "    return text[:1] + text.title()[1:].replace('_', '').replace('-', '')\n",
    "    \n",
    "'''"
   ]
  },
  {
   "cell_type": "code",
   "execution_count": null,
   "metadata": {
    "collapsed": true
   },
   "outputs": [],
   "source": []
  }
 ],
 "metadata": {
  "kernelspec": {
   "display_name": "Python [default]",
   "language": "python",
   "name": "python2"
  },
  "language_info": {
   "codemirror_mode": {
    "name": "ipython",
    "version": 2
   },
   "file_extension": ".py",
   "mimetype": "text/x-python",
   "name": "python",
   "nbconvert_exporter": "python",
   "pygments_lexer": "ipython2",
   "version": "2.7.13"
  }
 },
 "nbformat": 4,
 "nbformat_minor": 2
}
